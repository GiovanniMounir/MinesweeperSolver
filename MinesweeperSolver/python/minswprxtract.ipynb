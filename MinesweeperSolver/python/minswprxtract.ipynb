{
 "cells": [
  {
   "cell_type": "code",
   "execution_count": 155,
   "metadata": {},
   "outputs": [],
   "source": [
    "import cv2\n",
    "import numpy as np\n",
    "import matplotlib.pyplot as plt\n",
    "import math"
   ]
  },
  {
   "cell_type": "code",
   "execution_count": 156,
   "metadata": {},
   "outputs": [],
   "source": [
    "img  = cv2.imread(\"mines.JPG\",1)\n",
    "\n"
   ]
  },
  {
   "cell_type": "code",
   "execution_count": 157,
   "metadata": {},
   "outputs": [
    {
     "data": {
      "text/plain": [
       "array([[254, 253, 249, ..., 255, 255, 255],\n",
       "       [254, 254, 254, ..., 255, 255, 255],\n",
       "       [254, 254, 253, ..., 255, 255, 255],\n",
       "       ...,\n",
       "       [249, 250, 255, ..., 116, 114, 116],\n",
       "       [254, 252, 253, ..., 128, 131, 130],\n",
       "       [255, 255, 255, ..., 255, 255, 238]], dtype=uint8)"
      ]
     },
     "execution_count": 157,
     "metadata": {},
     "output_type": "execute_result"
    }
   ],
   "source": [
    "## (1) Convert to gray, and threshold\n",
    "gray = cv2.cvtColor(img, cv2.COLOR_BGR2GRAY)\n",
    "th, threshed = cv2.threshold(gray, 240, 255, cv2.THRESH_BINARY_INV)\n",
    "\n",
    "## (2) Morph-op to remove noise\n",
    "kernel = cv2.getStructuringElement(cv2.MORPH_ELLIPSE, (11,11))\n",
    "morphed = cv2.morphologyEx(threshed, cv2.MORPH_CLOSE, kernel)\n",
    "\n",
    "## (3) Find the max-area contour\n",
    "cnts = cv2.findContours(morphed, cv2.RETR_EXTERNAL, cv2.CHAIN_APPROX_SIMPLE)[-2]\n",
    "cnt = sorted(cnts, key=cv2.contourArea)[-1]\n",
    "\n",
    "## (4) Crop and save it\n",
    "x,y,w,h = cv2.boundingRect(cnt)\n",
    "dst = img[y:y+h, x:x+w]\n",
    "cv2.imwrite(\"001.png\", dst)\n",
    "img = dst\n",
    "cv2.cvtColor(dst, cv2.COLOR_BGR2GRAY)"
   ]
  },
  {
   "cell_type": "code",
   "execution_count": 158,
   "metadata": {},
   "outputs": [
    {
     "data": {
      "text/plain": [
       "True"
      ]
     },
     "execution_count": 158,
     "metadata": {},
     "output_type": "execute_result"
    }
   ],
   "source": [
    "dst = img.copy()\n",
    "dst= dst[74:-10,:]\n",
    "y=y+74\n",
    "cv2.imwrite('imgcrpd.jpg',dst)\n",
    "\n",
    "filter = False\n",
    "\n",
    "gray = cv2.cvtColor(dst,cv2.COLOR_BGR2GRAY)\n",
    "edges = cv2.Canny(gray,90,150,apertureSize = 3)\n",
    "kernel = np.ones((3,3),np.uint8)\n",
    "edges = cv2.dilate(edges,kernel,iterations = 1)\n",
    "kernel = np.ones((5,5),np.uint8)\n",
    "edges = cv2.erode(edges,kernel,iterations = 1)\n",
    "cv2.imwrite('canny.jpg',edges)"
   ]
  },
  {
   "cell_type": "code",
   "execution_count": 159,
   "metadata": {},
   "outputs": [],
   "source": [
    "img1 = dst.copy()\n",
    "n=2\n",
    "vrtlin = cv2.getStructuringElement(cv2.MORPH_RECT, (1, n))\n",
    "hrzlin = cv2.getStructuringElement(cv2.MORPH_RECT, (n,1))\n",
    "niw = cv2.morphologyEx(edges, cv2.MORPH_CLOSE, vrtlin)\n",
    "niw = cv2.morphologyEx(niw, cv2.MORPH_CLOSE, hrzlin)\n",
    "\n",
    "edges = cv2.Canny(niw,50,150,apertureSize = 3)\n",
    "cv2.imwrite('edges-50-150.jpg',edges)\n",
    "minLineLength=5\n",
    "lines = cv2.HoughLinesP(image=edges,rho=1,theta=np.pi/180, threshold=100,lines=np.array([]), minLineLength=minLineLength,maxLineGap=80)\n",
    "\n",
    "a,b,c = lines.shape\n",
    "\n",
    "for i in range(a):\n",
    "    x1,y1,x2,y2 = lines[i][0]\n",
    "    cv2.line(img1, (x1,y1), (x2,y2), (0, 0, 100), 2, cv2.LINE_AA)\n",
    "    \n",
    "    \n",
    "    cv2.imwrite('houghlines'+str(n)+'.jpg',img1)"
   ]
  },
  {
   "cell_type": "code",
   "execution_count": 160,
   "metadata": {},
   "outputs": [],
   "source": [
    "horzlins =[]\n",
    "vrtclins = []\n",
    "minx = lines.T[0].min()\n",
    "miny = lines.T[1].min()\n",
    "maxx = lines.T[2].max()\n",
    "maxy = lines.T[3].max()\n"
   ]
  },
  {
   "cell_type": "code",
   "execution_count": 161,
   "metadata": {
    "scrolled": true
   },
   "outputs": [
    {
     "data": {
      "text/plain": [
       "\"cv2.line(img2, (minx,miny), (maxx,miny), (0, 0, 100), 2, cv2.LINE_AA)\\ncv2.line(img2, (minx,maxy), (maxx,maxy), (0, 0, 100), 2, cv2.LINE_AA)\\ncv2.line(img2, (minx,miny), (minx,maxy), (0, 0, 100), 2, cv2.LINE_AA)\\ncv2.line(img2, (maxx,miny), (maxx,maxy), (0, 0, 100), 2, cv2.LINE_AA)\\ncv2.imwrite('houghlinesbordrs.jpg',img2)\""
      ]
     },
     "execution_count": 161,
     "metadata": {},
     "output_type": "execute_result"
    }
   ],
   "source": [
    "img2 = dst.copy()\n",
    "\n",
    "\"\"\"cv2.line(img2, (minx,miny), (maxx,miny), (0, 0, 100), 2, cv2.LINE_AA)\n",
    "cv2.line(img2, (minx,maxy), (maxx,maxy), (0, 0, 100), 2, cv2.LINE_AA)\n",
    "cv2.line(img2, (minx,miny), (minx,maxy), (0, 0, 100), 2, cv2.LINE_AA)\n",
    "cv2.line(img2, (maxx,miny), (maxx,maxy), (0, 0, 100), 2, cv2.LINE_AA)\n",
    "cv2.imwrite('houghlinesbordrs.jpg',img2)\"\"\"\n",
    "\n"
   ]
  },
  {
   "cell_type": "code",
   "execution_count": 162,
   "metadata": {},
   "outputs": [],
   "source": [
    "img2 = dst.copy()\n",
    "lngthx = np.ediff1d(np.unique(np.sort(lines.T[0]))).max()\n",
    "lngthy = np.ediff1d(np.unique(np.sort(lines.T[1]))).max()\n",
    "lngth = lngthx\n",
    "maxy =miny+ int((maxy-miny)/lngth)*lngth\n",
    "maxx =minx+ int((maxx-minx)/lngth)*lngth\n",
    "\n",
    "for i in range(int((maxy-miny)/lngth)+1):\n",
    "    cv2.line(img2, (minx,miny+i*lngth), (maxx,miny+i*lngth), (0, 0, 0), 2, cv2.LINE_AA)\n",
    "    cv2.imwrite('houghlinesbordrs.jpg',img2)\n",
    "\n",
    "for i in range(int((maxx-minx)/lngth)+1):\n",
    "    cv2.line(img2, (minx+i*lngth,miny), (minx+i*lngth,maxy), (0, 0, 0), 2, cv2.LINE_AA)\n",
    "    cv2.imwrite('houghlinesbordrs.jpg',img2)\n",
    "\n",
    "#print({\"minx\":minx,\"maxx\":maxx,\"miny\":miny,\"maxy\":maxy,\"lngthx\":lngthx,\"lngthy\":lngthy,\"itr\":itr})"
   ]
  },
  {
   "cell_type": "code",
   "execution_count": 165,
   "metadata": {},
   "outputs": [
    {
     "name": "stdout",
     "output_type": "stream",
     "text": [
      "{'brdrx': (641, 1241), 'brdry': (95, 415), 'stp': 20}\n"
     ]
    }
   ],
   "source": [
    "imgbig = cv2.imread(\"mines.JPG\",1)\n",
    "\n",
    "cv2.line(imgbig, (x+minx,y+miny), (x+maxx,y+miny), (0, 0, 100), 2, cv2.LINE_AA)\n",
    "cv2.line(imgbig, (x+minx,y+maxy), (x+maxx,y+maxy), (0, 0, 100), 2, cv2.LINE_AA)\n",
    "cv2.line(imgbig, (x+minx,y+miny), (x+minx,y+maxy), (0, 0, 100), 2, cv2.LINE_AA)\n",
    "cv2.line(imgbig, (x+maxx,y+miny), (x+maxx,y+maxy), (0, 0, 100), 2, cv2.LINE_AA)\n",
    "cv2.imwrite('houghlinesbig.jpg',imgbig)\n",
    "brdrx = (x+minx,x+maxx)\n",
    "brdry = (y+miny,y+maxy)\n",
    "stp = lngth\n",
    "print({\"brdrx\":brdrx,\"brdry\":brdry,\"stp\":stp})"
   ]
  }
 ],
 "metadata": {
  "kernelspec": {
   "display_name": "Python 3",
   "language": "python",
   "name": "python3"
  },
  "language_info": {
   "codemirror_mode": {
    "name": "ipython",
    "version": 3
   },
   "file_extension": ".py",
   "mimetype": "text/x-python",
   "name": "python",
   "nbconvert_exporter": "python",
   "pygments_lexer": "ipython3",
   "version": "3.6.5"
  }
 },
 "nbformat": 4,
 "nbformat_minor": 2
}
